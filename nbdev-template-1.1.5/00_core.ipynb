{
 "cells": [
  {
   "cell_type": "markdown",
   "metadata": {},
   "source": [
    "# core\n",
    "\n",
    "> Fill in a module description here"
   ]
  },
  {
   "cell_type": "code",
   "execution_count": null,
   "metadata": {},
   "outputs": [],
   "source": [
    "#| default_exp core"
   ]
  },
  {
   "cell_type": "code",
   "execution_count": null,
   "metadata": {},
   "outputs": [],
   "source": [
    "#| hide\n",
    "from nbdev.showdoc import *\n",
    "import os\n",
    "import logging\n",
    "logging.basicConfig(level=logging.DEBUG, format='%(asctime)s - %(levelname)s - %(message)s')\n",
    "logger = logging.getLogger(__name__)\n",
    "from torchvision.datasets import MNIST"
   ]
  },
  {
   "cell_type": "code",
   "execution_count": null,
   "metadata": {},
   "outputs": [],
   "source": [
    "#| export\n",
    "\n",
    "def foo(): pass"
   ]
  },
  {
   "cell_type": "code",
   "execution_count": null,
   "metadata": {},
   "outputs": [],
   "source": [
    "data_dir = '../data/tmp'\n",
    "abs_data_dir = os.path.abspath(data_dir)\n",
    "\n",
    "try:\n",
    "    os.makedirs(abs_data_dir, exist_ok=True)\n",
    "    logger.info(f\"Created directory {abs_data_dir}\")\n",
    "except Exception as e:\n",
    "    logger.error(f\"Error creating directory {abs_data_dir}: {e}\")\n",
    "    raise\n",
    "\n",
    "# Check if we have write permissions\n",
    "if not os.access(abs_data_dir, os.W_OK):\n",
    "    logger.error(f\"No write permissions for directory: {abs_data_dir}\")\n",
    "    raise PermissionError(f\"No write permissions for directory: {abs_data_dir}\")\n",
    "\n",
    "MNIST(data_dir, download=True)"
   ]
  },
  {
   "cell_type": "code",
   "execution_count": null,
   "metadata": {},
   "outputs": [],
   "source": [
    "#| hide\n",
    "import nbdev; nbdev.nbdev_export()"
   ]
  }
 ],
 "metadata": {
  "kernelspec": {
   "display_name": "python3",
   "language": "python",
   "name": "python3"
  }
 },
 "nbformat": 4,
 "nbformat_minor": 4
}
